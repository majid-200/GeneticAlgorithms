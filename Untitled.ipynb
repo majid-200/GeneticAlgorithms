{
 "cells": [
  {
   "cell_type": "code",
   "execution_count": null,
   "id": "0be1ca36-68e9-461d-9753-203ee7019003",
   "metadata": {},
   "outputs": [],
   "source": []
  }
 ],
 "metadata": {
  "kernelspec": {
   "display_name": "",
   "name": ""
  },
  "language_info": {
   "name": ""
  }
 },
 "nbformat": 4,
 "nbformat_minor": 5
}
